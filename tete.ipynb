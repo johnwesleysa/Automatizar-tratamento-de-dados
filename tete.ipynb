{
 "cells": [
  {
   "cell_type": "code",
   "execution_count": 1,
   "metadata": {},
   "outputs": [],
   "source": [
    "import pandas as pd\n",
    "import openpyxl\n",
    "import os\n",
    "import shutil\n",
    "from validate_email_address import validate_email\n",
    "from modules.get_path_sheet import get_latest_xlsx\n",
    "ARQUIVO = get_latest_xlsx()"
   ]
  },
  {
   "cell_type": "code",
   "execution_count": 2,
   "metadata": {},
   "outputs": [],
   "source": [
    "template = pd.read_excel(ARQUIVO)"
   ]
  },
  {
   "cell_type": "code",
   "execution_count": 3,
   "metadata": {},
   "outputs": [],
   "source": [
    "\n",
    "# Supondo que o DataFrame original seja chamado de template\n",
    "# Exclui a coluna \"SERIE-TEMP\"\n",
    "template = template.drop(\"SERIE-TEMP\", axis=\"columns\")"
   ]
  },
  {
   "cell_type": "code",
   "execution_count": 5,
   "metadata": {},
   "outputs": [
    {
     "data": {
      "text/html": [
       "<div>\n",
       "<style scoped>\n",
       "    .dataframe tbody tr th:only-of-type {\n",
       "        vertical-align: middle;\n",
       "    }\n",
       "\n",
       "    .dataframe tbody tr th {\n",
       "        vertical-align: top;\n",
       "    }\n",
       "\n",
       "    .dataframe thead th {\n",
       "        text-align: right;\n",
       "    }\n",
       "</style>\n",
       "<table border=\"1\" class=\"dataframe\">\n",
       "  <thead>\n",
       "    <tr style=\"text-align: right;\">\n",
       "      <th></th>\n",
       "      <th>Responsavel::Name</th>\n",
       "      <th>Responsavel::Email</th>\n",
       "      <th>ALUNO-NOME</th>\n",
       "      <th>Responsavel::ALUNO-NOME</th>\n",
       "      <th>Responsavel::ALUNO-NASCIMENTO</th>\n",
       "      <th>ALUNO-UNIDADE</th>\n",
       "      <th>Responsavel::ESCOLA-UNIDADE</th>\n",
       "      <th>Responsavel::CIDADE-ASSINATURA</th>\n",
       "      <th>Responsavel::ESCOLA-CNPJ</th>\n",
       "      <th>Responsavel::ESCOLA-ENDERECO</th>\n",
       "      <th>...</th>\n",
       "      <th>Responsavel::PL-PAGTO-FLAG</th>\n",
       "      <th>Responsavel::FL1-END-ALUNO</th>\n",
       "      <th>Responsavel::ALUNO-COR</th>\n",
       "      <th>Responsavel::FL2-END-ALUNO</th>\n",
       "      <th>Responsavel::ALUNO-SEXO</th>\n",
       "      <th>Responsavel::FL1-PARENTESCO</th>\n",
       "      <th>Responsavel::FL2-PARENTESCO</th>\n",
       "      <th>Responsavel::LIV-CHECK</th>\n",
       "      <th>Responsavel::MD-CHECK</th>\n",
       "      <th>Responsavel::Signature Provider</th>\n",
       "    </tr>\n",
       "  </thead>\n",
       "  <tbody>\n",
       "    <tr>\n",
       "      <th>0</th>\n",
       "      <td>Gianfranco Lucchesi</td>\n",
       "      <td>gianlucchesi@hotmail.com</td>\n",
       "      <td>Caterina Gardini Lucchesi</td>\n",
       "      <td>Caterina Gardini Lucchesi</td>\n",
       "      <td>NaN</td>\n",
       "      <td>São Paulo</td>\n",
       "      <td>São Paulo</td>\n",
       "      <td>São Paulo</td>\n",
       "      <td>20.151.362/0007-86</td>\n",
       "      <td>R. José Antonio Coelho, 879 – Vila Mariana – SP</td>\n",
       "      <td>...</td>\n",
       "      <td>NaN</td>\n",
       "      <td>NaN</td>\n",
       "      <td>NaN</td>\n",
       "      <td>NaN</td>\n",
       "      <td>NaN</td>\n",
       "      <td>NaN</td>\n",
       "      <td>NaN</td>\n",
       "      <td>NaN</td>\n",
       "      <td>NaN</td>\n",
       "      <td>NaN</td>\n",
       "    </tr>\n",
       "    <tr>\n",
       "      <th>1</th>\n",
       "      <td>Gianfranco Lucchesi</td>\n",
       "      <td>gianlucchesi@hotmail.com</td>\n",
       "      <td>Stella Gardini Lucchesi</td>\n",
       "      <td>Stella Gardini Lucchesi</td>\n",
       "      <td>NaN</td>\n",
       "      <td>São Paulo</td>\n",
       "      <td>São Paulo</td>\n",
       "      <td>São Paulo</td>\n",
       "      <td>20.151.362/0007-86</td>\n",
       "      <td>R. José Antonio Coelho, 879 – Vila Mariana – SP</td>\n",
       "      <td>...</td>\n",
       "      <td>NaN</td>\n",
       "      <td>NaN</td>\n",
       "      <td>NaN</td>\n",
       "      <td>NaN</td>\n",
       "      <td>NaN</td>\n",
       "      <td>NaN</td>\n",
       "      <td>NaN</td>\n",
       "      <td>NaN</td>\n",
       "      <td>NaN</td>\n",
       "      <td>NaN</td>\n",
       "    </tr>\n",
       "  </tbody>\n",
       "</table>\n",
       "<p>2 rows × 63 columns</p>\n",
       "</div>"
      ],
      "text/plain": [
       "     Responsavel::Name        Responsavel::Email                 ALUNO-NOME  \\\n",
       "0  Gianfranco Lucchesi  gianlucchesi@hotmail.com  Caterina Gardini Lucchesi   \n",
       "1  Gianfranco Lucchesi  gianlucchesi@hotmail.com    Stella Gardini Lucchesi   \n",
       "\n",
       "     Responsavel::ALUNO-NOME  Responsavel::ALUNO-NASCIMENTO ALUNO-UNIDADE  \\\n",
       "0  Caterina Gardini Lucchesi                            NaN     São Paulo   \n",
       "1    Stella Gardini Lucchesi                            NaN     São Paulo   \n",
       "\n",
       "  Responsavel::ESCOLA-UNIDADE Responsavel::CIDADE-ASSINATURA  \\\n",
       "0                   São Paulo                      São Paulo   \n",
       "1                   São Paulo                      São Paulo   \n",
       "\n",
       "  Responsavel::ESCOLA-CNPJ                     Responsavel::ESCOLA-ENDERECO  \\\n",
       "0       20.151.362/0007-86  R. José Antonio Coelho, 879 – Vila Mariana – SP   \n",
       "1       20.151.362/0007-86  R. José Antonio Coelho, 879 – Vila Mariana – SP   \n",
       "\n",
       "   ... Responsavel::PL-PAGTO-FLAG  Responsavel::FL1-END-ALUNO  \\\n",
       "0  ...                        NaN                         NaN   \n",
       "1  ...                        NaN                         NaN   \n",
       "\n",
       "   Responsavel::ALUNO-COR  Responsavel::FL2-END-ALUNO Responsavel::ALUNO-SEXO  \\\n",
       "0                     NaN                         NaN                     NaN   \n",
       "1                     NaN                         NaN                     NaN   \n",
       "\n",
       "  Responsavel::FL1-PARENTESCO  Responsavel::FL2-PARENTESCO  \\\n",
       "0                         NaN                          NaN   \n",
       "1                         NaN                          NaN   \n",
       "\n",
       "   Responsavel::LIV-CHECK  Responsavel::MD-CHECK  \\\n",
       "0                     NaN                    NaN   \n",
       "1                     NaN                    NaN   \n",
       "\n",
       "   Responsavel::Signature Provider  \n",
       "0                              NaN  \n",
       "1                              NaN  \n",
       "\n",
       "[2 rows x 63 columns]"
      ]
     },
     "execution_count": 5,
     "metadata": {},
     "output_type": "execute_result"
    }
   ],
   "source": [
    "# Supondo que você tenha o DataFrame chamado 'template'\n",
    "\n",
    "# Definindo as colunas necessárias\n",
    "colunas = [\n",
    "    'Responsavel::Name', 'Responsavel::Email', 'ALUNO-NOME', \n",
    "    'Responsavel::ALUNO-NOME', 'ALUNO-UNIDADE', \n",
    "    'Responsavel::ESCOLA-UNIDADE', 'Responsavel::CIDADE-ASSINATURA', \n",
    "    'Responsavel::ESCOLA-CNPJ', 'Responsavel::ESCOLA-ENDERECO', \n",
    "    'Responsavel::ALUNO-SERIE', 'Responsavel::ALUNO-TURNO', \n",
    "    'Responsavel::ANUIDADE-TEXTO1X', 'Responsavel::ANUIDADE-TEXTO12X'\n",
    "]\n",
    "\n",
    "# Remoção das linhas onde todos os valores são NaN\n",
    "df_cleaned = template.dropna(how='all')\n",
    "\n",
    "# Mostrar o DataFrame limpo\n",
    "df_cleaned.head()"
   ]
  },
  {
   "cell_type": "code",
   "execution_count": 10,
   "metadata": {},
   "outputs": [],
   "source": [
    "cidades = [\n",
    "        [\"Recife\", \"Recife\"], \n",
    "        [\"Brasília\", \"Brasília\"], \n",
    "        [\"São Paulo\", \"São Paulo\"], \n",
    "        [\"Barra\", \"Rio de Janeiro\"], \n",
    "        [\"Botafogo\", \"Rio de Janeiro\"], \n",
    "        [\"Urca\", \"Rio de Janeiro\"]\n",
    "    ]"
   ]
  },
  {
   "cell_type": "code",
   "execution_count": 19,
   "metadata": {},
   "outputs": [],
   "source": []
  },
  {
   "cell_type": "code",
   "execution_count": 20,
   "metadata": {},
   "outputs": [
    {
     "name": "stdout",
     "output_type": "stream",
     "text": [
      "São Paulo\n",
      "São Paulo\n"
     ]
    }
   ],
   "source": [
    "print(cidade)\n",
    "print(cidade_assinatura)"
   ]
  },
  {
   "cell_type": "code",
   "execution_count": 22,
   "metadata": {},
   "outputs": [
    {
     "name": "stdout",
     "output_type": "stream",
     "text": [
      "teste\n",
      "sp\n"
     ]
    }
   ],
   "source": [
    "CIDADE_GLOBAL = ''\n",
    "\n",
    "def teste():\n",
    "    global CIDADE_GLOBAL\n",
    "    cidade = 'sp'\n",
    "    CIDADE_GLOBAL = cidade\n",
    "    return f'teste'\n",
    "\n",
    "print(teste())\n",
    "print(CIDADE_GLOBAL)"
   ]
  }
 ],
 "metadata": {
  "kernelspec": {
   "display_name": "venv",
   "language": "python",
   "name": "python3"
  },
  "language_info": {
   "codemirror_mode": {
    "name": "ipython",
    "version": 3
   },
   "file_extension": ".py",
   "mimetype": "text/x-python",
   "name": "python",
   "nbconvert_exporter": "python",
   "pygments_lexer": "ipython3",
   "version": "3.12.3"
  }
 },
 "nbformat": 4,
 "nbformat_minor": 2
}
